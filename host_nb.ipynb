{
 "cells": [
  {
   "cell_type": "code",
   "execution_count": 1,
   "id": "9ae6876d-6f06-4d17-a768-560a10287f28",
   "metadata": {},
   "outputs": [],
   "source": [
    "import pandas as pd\n",
    "import dill\n",
    "\n",
    "from multiprocessing import shared_memory\n",
    "from fb_shared_memory import FbSharedMemory"
   ]
  },
  {
   "cell_type": "code",
   "execution_count": 2,
   "id": "415a07f9-9eec-4dd7-b187-1c10b7851d0b",
   "metadata": {},
   "outputs": [],
   "source": [
    "df = pd.read_csv(\"climatechange_tweets_all.csv\")"
   ]
  },
  {
   "cell_type": "code",
   "execution_count": 3,
   "id": "60418a0a-68bb-4535-b1d7-e73a60895d49",
   "metadata": {},
   "outputs": [
    {
     "name": "stdout",
     "output_type": "stream",
     "text": [
      "63245615\n",
      "CPU times: user 4.43 s, sys: 151 ms, total: 4.58 s\n",
      "Wall time: 4.57 s\n"
     ]
    }
   ],
   "source": [
    "%%time\n",
    "# Serializing the dataframe with dill, then adding it to shared memory\n",
    "df_bytestring = dill.dumps(df)\n",
    "shm_a = shared_memory.SharedMemory(create=True, name = \"dill_shm\", size=len(df_bytestring) + 1000)\n",
    "shm_a.buf[:len(df_bytestring)] = df_bytestring\n",
    "print(len(df_bytestring))"
   ]
  },
  {
   "cell_type": "code",
   "execution_count": 4,
   "id": "95665707-f3c5-4563-8044-21bc19a30f73",
   "metadata": {},
   "outputs": [
    {
     "name": "stdout",
     "output_type": "stream",
     "text": [
      "CPU times: user 23.1 s, sys: 214 ms, total: 23.3 s\n",
      "Wall time: 23.3 s\n"
     ]
    }
   ],
   "source": [
    "%%time\n",
    "# Serializing the dataframe with flatbuffers, then adding it to shared memory\n",
    "shm = FbSharedMemory()\n",
    "shm.add_dataframe(\"df1\", df)"
   ]
  }
 ],
 "metadata": {
  "kernelspec": {
   "display_name": "Python 3 (ipykernel)",
   "language": "python",
   "name": "python3"
  },
  "language_info": {
   "codemirror_mode": {
    "name": "ipython",
    "version": 3
   },
   "file_extension": ".py",
   "mimetype": "text/x-python",
   "name": "python",
   "nbconvert_exporter": "python",
   "pygments_lexer": "ipython3",
   "version": "3.8.10"
  }
 },
 "nbformat": 4,
 "nbformat_minor": 5
}
