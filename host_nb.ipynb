{
 "cells": [
  {
   "cell_type": "code",
   "execution_count": 1,
   "id": "9ae6876d-6f06-4d17-a768-560a10287f28",
   "metadata": {
    "ExecuteTime": {
     "end_time": "2024-04-13T02:55:44.705578Z",
     "start_time": "2024-04-13T02:55:42.961478Z"
    }
   },
   "outputs": [],
   "source": [
    "import pandas as pd\n",
    "import dill\n",
    "\n",
    "from multiprocessing import shared_memory\n",
    "from fb_shared_memory import FbSharedMemory"
   ]
  },
  {
   "cell_type": "code",
   "execution_count": 7,
   "id": "415a07f9-9eec-4dd7-b187-1c10b7851d0b",
   "metadata": {
    "ExecuteTime": {
     "end_time": "2024-04-13T03:07:03.156038Z",
     "start_time": "2024-04-13T03:07:01.837258Z"
    }
   },
   "outputs": [
    {
     "data": {
      "text/plain": "   Unnamed: 0             tweet_id     tweet_created_at language  \\\n0           0  1068223635024941056  2018-11-29 19:22:15       en   \n1           1  1068223643765940226  2018-11-29 19:22:17       en   \n2           2  1068223645330432001  2018-11-29 19:22:18       en   \n3           3  1068223649222664194  2018-11-29 19:22:19       en   \n4           4  1068223660299677696  2018-11-29 19:22:21       en   \n\n  user_screen_name      user_created_at             user_id  followers_count  \\\n0     JGuerreroN13  2017-06-07 20:21:48  872549171680694272              245   \n1   t_rustyboy1720  2017-09-23 03:53:34  911438362271031296               63   \n2     MissCJWright  2009-03-15 16:24:32            24544855             1383   \n3             al_f  2009-07-17 00:05:50            57490401              333   \n4        Hawknana_  2013-12-21 03:16:04          2255917724             1751   \n\n   friends_count  time_zone  utc_offset  retweeted_status    retweet_id  \\\n0            419        NaN         NaN                 1  1.068067e+18   \n1            232        NaN         NaN                 1  1.068211e+18   \n2           4585        NaN         NaN                 1  1.068223e+18   \n3            377        NaN         NaN                 1  1.068182e+18   \n4           3409        NaN         NaN                 1  1.068187e+18   \n\n  retweet_user_screen_name  retweet_user_id  \n0                   UNFCCC     1.746392e+07  \n1                  saskboy     6.634632e+06  \n2              EcoSenseNow     1.392956e+09  \n3             ClimateComms     3.626422e+08  \n4              PortlandBEM     1.803082e+07  ",
      "text/html": "<div>\n<style scoped>\n    .dataframe tbody tr th:only-of-type {\n        vertical-align: middle;\n    }\n\n    .dataframe tbody tr th {\n        vertical-align: top;\n    }\n\n    .dataframe thead th {\n        text-align: right;\n    }\n</style>\n<table border=\"1\" class=\"dataframe\">\n  <thead>\n    <tr style=\"text-align: right;\">\n      <th></th>\n      <th>Unnamed: 0</th>\n      <th>tweet_id</th>\n      <th>tweet_created_at</th>\n      <th>language</th>\n      <th>user_screen_name</th>\n      <th>user_created_at</th>\n      <th>user_id</th>\n      <th>followers_count</th>\n      <th>friends_count</th>\n      <th>time_zone</th>\n      <th>utc_offset</th>\n      <th>retweeted_status</th>\n      <th>retweet_id</th>\n      <th>retweet_user_screen_name</th>\n      <th>retweet_user_id</th>\n    </tr>\n  </thead>\n  <tbody>\n    <tr>\n      <th>0</th>\n      <td>0</td>\n      <td>1068223635024941056</td>\n      <td>2018-11-29 19:22:15</td>\n      <td>en</td>\n      <td>JGuerreroN13</td>\n      <td>2017-06-07 20:21:48</td>\n      <td>872549171680694272</td>\n      <td>245</td>\n      <td>419</td>\n      <td>NaN</td>\n      <td>NaN</td>\n      <td>1</td>\n      <td>1.068067e+18</td>\n      <td>UNFCCC</td>\n      <td>1.746392e+07</td>\n    </tr>\n    <tr>\n      <th>1</th>\n      <td>1</td>\n      <td>1068223643765940226</td>\n      <td>2018-11-29 19:22:17</td>\n      <td>en</td>\n      <td>t_rustyboy1720</td>\n      <td>2017-09-23 03:53:34</td>\n      <td>911438362271031296</td>\n      <td>63</td>\n      <td>232</td>\n      <td>NaN</td>\n      <td>NaN</td>\n      <td>1</td>\n      <td>1.068211e+18</td>\n      <td>saskboy</td>\n      <td>6.634632e+06</td>\n    </tr>\n    <tr>\n      <th>2</th>\n      <td>2</td>\n      <td>1068223645330432001</td>\n      <td>2018-11-29 19:22:18</td>\n      <td>en</td>\n      <td>MissCJWright</td>\n      <td>2009-03-15 16:24:32</td>\n      <td>24544855</td>\n      <td>1383</td>\n      <td>4585</td>\n      <td>NaN</td>\n      <td>NaN</td>\n      <td>1</td>\n      <td>1.068223e+18</td>\n      <td>EcoSenseNow</td>\n      <td>1.392956e+09</td>\n    </tr>\n    <tr>\n      <th>3</th>\n      <td>3</td>\n      <td>1068223649222664194</td>\n      <td>2018-11-29 19:22:19</td>\n      <td>en</td>\n      <td>al_f</td>\n      <td>2009-07-17 00:05:50</td>\n      <td>57490401</td>\n      <td>333</td>\n      <td>377</td>\n      <td>NaN</td>\n      <td>NaN</td>\n      <td>1</td>\n      <td>1.068182e+18</td>\n      <td>ClimateComms</td>\n      <td>3.626422e+08</td>\n    </tr>\n    <tr>\n      <th>4</th>\n      <td>4</td>\n      <td>1068223660299677696</td>\n      <td>2018-11-29 19:22:21</td>\n      <td>en</td>\n      <td>Hawknana_</td>\n      <td>2013-12-21 03:16:04</td>\n      <td>2255917724</td>\n      <td>1751</td>\n      <td>3409</td>\n      <td>NaN</td>\n      <td>NaN</td>\n      <td>1</td>\n      <td>1.068187e+18</td>\n      <td>PortlandBEM</td>\n      <td>1.803082e+07</td>\n    </tr>\n  </tbody>\n</table>\n</div>"
     },
     "execution_count": 7,
     "metadata": {},
     "output_type": "execute_result"
    }
   ],
   "source": [
    "df = pd.read_csv(\"climatechange_tweets_all.csv\")\n",
    "df.head()"
   ]
  },
  {
   "cell_type": "code",
   "execution_count": 8,
   "id": "60418a0a-68bb-4535-b1d7-e73a60895d49",
   "metadata": {
    "ExecuteTime": {
     "end_time": "2024-04-13T03:07:11.819992Z",
     "start_time": "2024-04-13T03:07:05.019396Z"
    }
   },
   "outputs": [
    {
     "name": "stdout",
     "output_type": "stream",
     "text": [
      "63245615\n",
      "CPU times: user 6.62 s, sys: 103 ms, total: 6.72 s\n",
      "Wall time: 6.8 s\n"
     ]
    }
   ],
   "source": [
    "%%time\n",
    "# Serializing the dataframe with dill, then adding it to shared memory\n",
    "df_bytestring = dill.dumps(df)\n",
    "shm_a = shared_memory.SharedMemory(create=True, name = \"dill_shm\", size=len(df_bytestring) + 1000)\n",
    "shm_a.buf[:len(df_bytestring)] = df_bytestring\n",
    "print(len(df_bytestring))"
   ]
  },
  {
   "cell_type": "code",
   "execution_count": 9,
   "id": "95665707-f3c5-4563-8044-21bc19a30f73",
   "metadata": {
    "ExecuteTime": {
     "end_time": "2024-04-13T03:07:14.054539Z",
     "start_time": "2024-04-13T03:07:14.047301Z"
    }
   },
   "outputs": [
    {
     "name": "stdout",
     "output_type": "stream",
     "text": [
      "CPU times: user 1.25 ms, sys: 726 µs, total: 1.97 ms\n",
      "Wall time: 1.58 ms\n"
     ]
    }
   ],
   "source": [
    "%%time\n",
    "# Serializing the dataframe with flatbuffers, then adding it to shared memory\n",
    "shm = FbSharedMemory()\n",
    "shm.add_dataframe(\"df1\", df)"
   ]
  },
  {
   "cell_type": "code",
   "outputs": [],
   "source": [],
   "metadata": {
    "collapsed": false
   },
   "id": "c03c411548a97877"
  }
 ],
 "metadata": {
  "kernelspec": {
   "display_name": "Python 3 (ipykernel)",
   "language": "python",
   "name": "python3"
  },
  "language_info": {
   "codemirror_mode": {
    "name": "ipython",
    "version": 3
   },
   "file_extension": ".py",
   "mimetype": "text/x-python",
   "name": "python",
   "nbconvert_exporter": "python",
   "pygments_lexer": "ipython3",
   "version": "3.8.10"
  }
 },
 "nbformat": 4,
 "nbformat_minor": 5
}
