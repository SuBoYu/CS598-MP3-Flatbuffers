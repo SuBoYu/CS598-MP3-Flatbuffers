{
 "cells": [
  {
   "cell_type": "code",
   "execution_count": 8,
   "id": "4a501d89-025f-430e-92cb-b0a665231462",
   "metadata": {
    "ExecuteTime": {
     "end_time": "2024-04-13T03:07:19.729477Z",
     "start_time": "2024-04-13T03:07:19.721194Z"
    }
   },
   "outputs": [],
   "source": [
    "import pandas as pd\n",
    "import dill\n",
    "\n",
    "from multiprocessing import shared_memory\n",
    "from fb_shared_memory import FbSharedMemory"
   ]
  },
  {
   "cell_type": "code",
   "execution_count": 9,
   "id": "db4a2221-7293-41f0-a15d-ea9c31b3cd0f",
   "metadata": {
    "ExecuteTime": {
     "end_time": "2024-04-13T03:07:21.003043Z",
     "start_time": "2024-04-13T03:07:20.998194Z"
    }
   },
   "outputs": [],
   "source": [
    "# Get the bytes for the dataframe serialized by dill.\n",
    "shm_b = shared_memory.SharedMemory(\"dill_shm\")\n",
    "df_bytes = shm_b.buf[:63245615]"
   ]
  },
  {
   "cell_type": "code",
   "execution_count": 10,
   "id": "b1ae047c-a2f7-4ff2-8d7b-8cb5f52e9dcf",
   "metadata": {
    "ExecuteTime": {
     "end_time": "2024-04-13T03:07:27.336940Z",
     "start_time": "2024-04-13T03:07:26.977313Z"
    }
   },
   "outputs": [
    {
     "name": "stdout",
     "output_type": "stream",
     "text": [
      "CPU times: user 183 ms, sys: 117 ms, total: 299 ms\n",
      "Wall time: 327 ms\n"
     ]
    },
    {
     "data": {
      "text/plain": "   Unnamed: 0             tweet_id     tweet_created_at language  \\\n0           0  1068223635024941056  2018-11-29 19:22:15       en   \n1           1  1068223643765940226  2018-11-29 19:22:17       en   \n2           2  1068223645330432001  2018-11-29 19:22:18       en   \n3           3  1068223649222664194  2018-11-29 19:22:19       en   \n4           4  1068223660299677696  2018-11-29 19:22:21       en   \n\n  user_screen_name      user_created_at             user_id  followers_count  \\\n0     JGuerreroN13  2017-06-07 20:21:48  872549171680694272              245   \n1   t_rustyboy1720  2017-09-23 03:53:34  911438362271031296               63   \n2     MissCJWright  2009-03-15 16:24:32            24544855             1383   \n3             al_f  2009-07-17 00:05:50            57490401              333   \n4        Hawknana_  2013-12-21 03:16:04          2255917724             1751   \n\n   friends_count  time_zone  utc_offset  retweeted_status    retweet_id  \\\n0            419        NaN         NaN                 1  1.068067e+18   \n1            232        NaN         NaN                 1  1.068211e+18   \n2           4585        NaN         NaN                 1  1.068223e+18   \n3            377        NaN         NaN                 1  1.068182e+18   \n4           3409        NaN         NaN                 1  1.068187e+18   \n\n  retweet_user_screen_name  retweet_user_id  \n0                   UNFCCC     1.746392e+07  \n1                  saskboy     6.634632e+06  \n2              EcoSenseNow     1.392956e+09  \n3             ClimateComms     3.626422e+08  \n4              PortlandBEM     1.803082e+07  ",
      "text/html": "<div>\n<style scoped>\n    .dataframe tbody tr th:only-of-type {\n        vertical-align: middle;\n    }\n\n    .dataframe tbody tr th {\n        vertical-align: top;\n    }\n\n    .dataframe thead th {\n        text-align: right;\n    }\n</style>\n<table border=\"1\" class=\"dataframe\">\n  <thead>\n    <tr style=\"text-align: right;\">\n      <th></th>\n      <th>Unnamed: 0</th>\n      <th>tweet_id</th>\n      <th>tweet_created_at</th>\n      <th>language</th>\n      <th>user_screen_name</th>\n      <th>user_created_at</th>\n      <th>user_id</th>\n      <th>followers_count</th>\n      <th>friends_count</th>\n      <th>time_zone</th>\n      <th>utc_offset</th>\n      <th>retweeted_status</th>\n      <th>retweet_id</th>\n      <th>retweet_user_screen_name</th>\n      <th>retweet_user_id</th>\n    </tr>\n  </thead>\n  <tbody>\n    <tr>\n      <th>0</th>\n      <td>0</td>\n      <td>1068223635024941056</td>\n      <td>2018-11-29 19:22:15</td>\n      <td>en</td>\n      <td>JGuerreroN13</td>\n      <td>2017-06-07 20:21:48</td>\n      <td>872549171680694272</td>\n      <td>245</td>\n      <td>419</td>\n      <td>NaN</td>\n      <td>NaN</td>\n      <td>1</td>\n      <td>1.068067e+18</td>\n      <td>UNFCCC</td>\n      <td>1.746392e+07</td>\n    </tr>\n    <tr>\n      <th>1</th>\n      <td>1</td>\n      <td>1068223643765940226</td>\n      <td>2018-11-29 19:22:17</td>\n      <td>en</td>\n      <td>t_rustyboy1720</td>\n      <td>2017-09-23 03:53:34</td>\n      <td>911438362271031296</td>\n      <td>63</td>\n      <td>232</td>\n      <td>NaN</td>\n      <td>NaN</td>\n      <td>1</td>\n      <td>1.068211e+18</td>\n      <td>saskboy</td>\n      <td>6.634632e+06</td>\n    </tr>\n    <tr>\n      <th>2</th>\n      <td>2</td>\n      <td>1068223645330432001</td>\n      <td>2018-11-29 19:22:18</td>\n      <td>en</td>\n      <td>MissCJWright</td>\n      <td>2009-03-15 16:24:32</td>\n      <td>24544855</td>\n      <td>1383</td>\n      <td>4585</td>\n      <td>NaN</td>\n      <td>NaN</td>\n      <td>1</td>\n      <td>1.068223e+18</td>\n      <td>EcoSenseNow</td>\n      <td>1.392956e+09</td>\n    </tr>\n    <tr>\n      <th>3</th>\n      <td>3</td>\n      <td>1068223649222664194</td>\n      <td>2018-11-29 19:22:19</td>\n      <td>en</td>\n      <td>al_f</td>\n      <td>2009-07-17 00:05:50</td>\n      <td>57490401</td>\n      <td>333</td>\n      <td>377</td>\n      <td>NaN</td>\n      <td>NaN</td>\n      <td>1</td>\n      <td>1.068182e+18</td>\n      <td>ClimateComms</td>\n      <td>3.626422e+08</td>\n    </tr>\n    <tr>\n      <th>4</th>\n      <td>4</td>\n      <td>1068223660299677696</td>\n      <td>2018-11-29 19:22:21</td>\n      <td>en</td>\n      <td>Hawknana_</td>\n      <td>2013-12-21 03:16:04</td>\n      <td>2255917724</td>\n      <td>1751</td>\n      <td>3409</td>\n      <td>NaN</td>\n      <td>NaN</td>\n      <td>1</td>\n      <td>1.068187e+18</td>\n      <td>PortlandBEM</td>\n      <td>1.803082e+07</td>\n    </tr>\n  </tbody>\n</table>\n</div>"
     },
     "execution_count": 10,
     "metadata": {},
     "output_type": "execute_result"
    }
   ],
   "source": [
    "%%time\n",
    "# De-serializing the dataframe with dill from shared memory\n",
    "df = dill.loads(df_bytes)\n",
    "df.head()"
   ]
  },
  {
   "cell_type": "code",
   "outputs": [],
   "source": [
    "# Connect to shared memory in host_nb session.\n",
    "shm = FbSharedMemory()"
   ],
   "metadata": {
    "collapsed": false,
    "ExecuteTime": {
     "end_time": "2024-04-13T03:07:33.627805Z",
     "start_time": "2024-04-13T03:07:33.623983Z"
    }
   },
   "id": "d15e949a267e7e3e",
   "execution_count": 11
  },
  {
   "cell_type": "code",
   "execution_count": 12,
   "id": "3991adcf-fc88-4b3c-aae6-b0e9ccdf1573",
   "metadata": {
    "ExecuteTime": {
     "end_time": "2024-04-13T03:07:35.821163Z",
     "start_time": "2024-04-13T03:07:35.508651Z"
    }
   },
   "outputs": [
    {
     "name": "stdout",
     "output_type": "stream",
     "text": [
      "CPU times: user 56.9 ms, sys: 139 ms, total: 196 ms\n",
      "Wall time: 295 ms\n"
     ]
    },
    {
     "data": {
      "text/plain": "Empty DataFrame\nColumns: []\nIndex: []",
      "text/html": "<div>\n<style scoped>\n    .dataframe tbody tr th:only-of-type {\n        vertical-align: middle;\n    }\n\n    .dataframe tbody tr th {\n        vertical-align: top;\n    }\n\n    .dataframe thead th {\n        text-align: right;\n    }\n</style>\n<table border=\"1\" class=\"dataframe\">\n  <thead>\n    <tr style=\"text-align: right;\">\n      <th></th>\n    </tr>\n  </thead>\n  <tbody>\n  </tbody>\n</table>\n</div>"
     },
     "execution_count": 12,
     "metadata": {},
     "output_type": "execute_result"
    }
   ],
   "source": [
    "%%time\n",
    "# Reading dataframe head from flatbuffer.\n",
    "shm.dataframe_head(\"df1\", 5)"
   ]
  },
  {
   "cell_type": "code",
   "execution_count": 13,
   "id": "76dddffb-9a63-4196-b2ea-694358b4f88d",
   "metadata": {
    "ExecuteTime": {
     "end_time": "2024-04-13T03:11:45.877128Z",
     "start_time": "2024-04-13T03:11:45.401423Z"
    }
   },
   "outputs": [
    {
     "name": "stdout",
     "output_type": "stream",
     "text": [
      "CPU times: user 253 ms, sys: 147 ms, total: 400 ms\n",
      "Wall time: 462 ms\n"
     ]
    },
    {
     "data": {
      "text/plain": "         followers_count\nuser_id                 \n767               136703\n1968                5031\n1999                1803\n2654                6460\n2737                 675",
      "text/html": "<div>\n<style scoped>\n    .dataframe tbody tr th:only-of-type {\n        vertical-align: middle;\n    }\n\n    .dataframe tbody tr th {\n        vertical-align: top;\n    }\n\n    .dataframe thead th {\n        text-align: right;\n    }\n</style>\n<table border=\"1\" class=\"dataframe\">\n  <thead>\n    <tr style=\"text-align: right;\">\n      <th></th>\n      <th>followers_count</th>\n    </tr>\n    <tr>\n      <th>user_id</th>\n      <th></th>\n    </tr>\n  </thead>\n  <tbody>\n    <tr>\n      <th>767</th>\n      <td>136703</td>\n    </tr>\n    <tr>\n      <th>1968</th>\n      <td>5031</td>\n    </tr>\n    <tr>\n      <th>1999</th>\n      <td>1803</td>\n    </tr>\n    <tr>\n      <th>2654</th>\n      <td>6460</td>\n    </tr>\n    <tr>\n      <th>2737</th>\n      <td>675</td>\n    </tr>\n  </tbody>\n</table>\n</div>"
     },
     "execution_count": 13,
     "metadata": {},
     "output_type": "execute_result"
    }
   ],
   "source": [
    "%%time\n",
    "# De-serializing the dataframe with dill from shared memory\n",
    "df = dill.loads(df_bytes)\n",
    "df.groupby(\"user_id\").agg({'followers_count': 'sum'}).head()"
   ]
  },
  {
   "cell_type": "code",
   "execution_count": 14,
   "id": "33d7ff6a-f0b7-4602-ac5f-ab037350c516",
   "metadata": {
    "ExecuteTime": {
     "end_time": "2024-04-13T03:11:51.218254Z",
     "start_time": "2024-04-13T03:11:50.951137Z"
    }
   },
   "outputs": [
    {
     "name": "stdout",
     "output_type": "stream",
     "text": [
      "CPU times: user 56.1 ms, sys: 128 ms, total: 184 ms\n",
      "Wall time: 259 ms\n"
     ]
    },
    {
     "data": {
      "text/plain": "Empty DataFrame\nColumns: []\nIndex: []",
      "text/html": "<div>\n<style scoped>\n    .dataframe tbody tr th:only-of-type {\n        vertical-align: middle;\n    }\n\n    .dataframe tbody tr th {\n        vertical-align: top;\n    }\n\n    .dataframe thead th {\n        text-align: right;\n    }\n</style>\n<table border=\"1\" class=\"dataframe\">\n  <thead>\n    <tr style=\"text-align: right;\">\n      <th></th>\n    </tr>\n  </thead>\n  <tbody>\n  </tbody>\n</table>\n</div>"
     },
     "execution_count": 14,
     "metadata": {},
     "output_type": "execute_result"
    }
   ],
   "source": [
    "%%time\n",
    "# Performing groupby directly on flatbuffer\n",
    "shm.dataframe_group_by_sum(\"df1\", \"user_id\", \"followers_count\").head()"
   ]
  },
  {
   "cell_type": "code",
   "execution_count": 15,
   "id": "4f3c4a94-9a30-42b4-8359-abfe53967b78",
   "metadata": {
    "ExecuteTime": {
     "end_time": "2024-04-13T03:12:02.816296Z",
     "start_time": "2024-04-13T03:11:54.945229Z"
    }
   },
   "outputs": [
    {
     "name": "stdout",
     "output_type": "stream",
     "text": [
      "CPU times: user 7.03 s, sys: 280 ms, total: 7.31 s\n",
      "Wall time: 7.86 s\n"
     ]
    }
   ],
   "source": [
    "%%time\n",
    "# De-serializing the dataframe, making the change, then re-serializing with dill\n",
    "df = dill.loads(df_bytes)\n",
    "df[\"followers_count\"] = df[\"followers_count\"].apply(lambda x: x * 2)\n",
    "df_bytes = dill.dumps(df)"
   ]
  },
  {
   "cell_type": "code",
   "execution_count": 8,
   "id": "2881685b-f402-4081-bcee-b910b947d4ed",
   "metadata": {},
   "outputs": [
    {
     "name": "stdout",
     "output_type": "stream",
     "text": [
      "CPU times: user 237 ms, sys: 2.56 ms, total: 239 ms\n",
      "Wall time: 238 ms\n"
     ]
    }
   ],
   "source": [
    "%%time\n",
    "# Performing groupby directly on flatbuffer\n",
    "shm.dataframe_map_numeric_column(\"df1\", \"followers_count\", lambda x: x * 2)"
   ]
  }
 ],
 "metadata": {
  "kernelspec": {
   "display_name": "Python 3 (ipykernel)",
   "language": "python",
   "name": "python3"
  },
  "language_info": {
   "codemirror_mode": {
    "name": "ipython",
    "version": 3
   },
   "file_extension": ".py",
   "mimetype": "text/x-python",
   "name": "python",
   "nbconvert_exporter": "python",
   "pygments_lexer": "ipython3",
   "version": "3.8.10"
  }
 },
 "nbformat": 4,
 "nbformat_minor": 5
}
